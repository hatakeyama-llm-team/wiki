{
  "cells": [
    {
      "cell_type": "code",
      "execution_count": 32,
      "metadata": {
        "colab": {
          "base_uri": "https://localhost:8080/"
        },
        "id": "TQthA0E-Xp2C",
        "outputId": "b8c6e62b-c4d9-4f1e-8222-72b0dacf38b8"
      },
      "outputs": [
        {
          "output_type": "stream",
          "name": "stdout",
          "text": [
            "--2024-04-09 03:23:35--  https://dumps.wikimedia.org/jawikibooks/20240320/jawikibooks-20240320-pages-articles-multistream.xml.bz2\n",
            "Resolving dumps.wikimedia.org (dumps.wikimedia.org)... 208.80.154.71, 2620:0:861:3:208:80:154:71\n",
            "Connecting to dumps.wikimedia.org (dumps.wikimedia.org)|208.80.154.71|:443... connected.\n",
            "HTTP request sent, awaiting response... 200 OK\n",
            "Length: 23257442 (22M) [application/octet-stream]\n",
            "Saving to: ‘jawikibooks-20240320-pages-articles-multistream.xml.bz2’\n",
            "\n",
            "jawikibooks-2024032 100%[===================>]  22.18M  3.33MB/s    in 6.2s    \n",
            "\n",
            "2024-04-09 03:23:41 (3.56 MB/s) - ‘jawikibooks-20240320-pages-articles-multistream.xml.bz2’ saved [23257442/23257442]\n",
            "\n",
            "bzip2: Output file jawikibooks-20240320-pages-articles-multistream.xml already exists.\n"
          ]
        }
      ],
      "source": [
        "#wikibook\n",
        "!wget https://dumps.wikimedia.org/jawikibooks/20240320/jawikibooks-20240320-pages-articles-multistream.xml.bz2\n",
        "!bzip2 -d jawikibooks-20240320-pages-articles-multistream.xml.bz2"
      ]
    },
    {
      "cell_type": "code",
      "execution_count": 33,
      "metadata": {
        "id": "K6uZE7bUXp2E"
      },
      "outputs": [],
      "source": [
        "path=\"jawikibooks-20240320-pages-articles-multistream.xml\""
      ]
    },
    {
      "cell_type": "code",
      "execution_count": 34,
      "metadata": {
        "id": "ZdGKT8ZeXp2E"
      },
      "outputs": [],
      "source": [
        "import xml.etree.ElementTree as ET\n",
        "\n",
        "# XMLファイルを読み込む\n",
        "tree = ET.parse(path)\n",
        "root = tree.getroot()"
      ]
    },
    {
      "cell_type": "code",
      "execution_count": 35,
      "metadata": {
        "colab": {
          "base_uri": "https://localhost:8080/"
        },
        "id": "T52Q1tFMXp2E",
        "outputId": "759dd796-c3ab-4d44-cc56-b74befaa160d"
      },
      "outputs": [
        {
          "output_type": "stream",
          "name": "stdout",
          "text": [
            "{http://www.mediawiki.org/xml/export-0.10/}mediawiki\n"
          ]
        }
      ],
      "source": [
        "print(root.tag)"
      ]
    },
    {
      "cell_type": "code",
      "execution_count": 36,
      "metadata": {
        "colab": {
          "base_uri": "https://localhost:8080/"
        },
        "id": "XmvFA_dkXp2E",
        "outputId": "43b7690c-b6d0-4fe5-b56d-f962833d6eb9"
      },
      "outputs": [
        {
          "output_type": "stream",
          "name": "stdout",
          "text": [
            "{http://www.mediawiki.org/xml/export-0.10/}siteinfo {}\n",
            "{http://www.mediawiki.org/xml/export-0.10/}page {}\n",
            "{http://www.mediawiki.org/xml/export-0.10/}page {}\n",
            "{http://www.mediawiki.org/xml/export-0.10/}page {}\n",
            "{http://www.mediawiki.org/xml/export-0.10/}page {}\n",
            "{http://www.mediawiki.org/xml/export-0.10/}page {}\n",
            "{http://www.mediawiki.org/xml/export-0.10/}page {}\n",
            "{http://www.mediawiki.org/xml/export-0.10/}page {}\n",
            "{http://www.mediawiki.org/xml/export-0.10/}page {}\n",
            "{http://www.mediawiki.org/xml/export-0.10/}page {}\n",
            "{http://www.mediawiki.org/xml/export-0.10/}page {}\n"
          ]
        }
      ],
      "source": [
        "cnt=0\n",
        "for child in root:\n",
        "    cnt+=1\n",
        "    print(child.tag, child.attrib)\n",
        "    if cnt>10:\n",
        "        break"
      ]
    },
    {
      "cell_type": "code",
      "source": [
        "import glob\n",
        "import unicodedata\n",
        "import re\n",
        "from bs4 import BeautifulSoup\n",
        "\n",
        "tag=\"{http://www.mediawiki.org/xml/export-0.10/}page\"\n",
        "elems=root.findall(tag)\n",
        "n_data=200\n",
        "start_id=300\n",
        "cnt=0\n",
        "\n",
        "## スキップするセクションを設定する\n",
        "skip_section = False  # スキップするセクションのトラッキングに使用\n",
        "skip_section_headers = [\n",
        "    '== 目次 ==',\n",
        "    '==目次==',\n",
        "    '== 外部リンク ==',\n",
        "    '==外部リンク==',\n",
        "    '== 参考文献 ==',\n",
        "    '== 関連項目 ==',\n",
        "    '===関連項目===',\n",
        "    '=== 連絡先 ===',\n",
        "    '=== 割と高度な内容 ===', #https://ja.wikibooks.org/wiki/C%E8%A8%80%E8%AA%9E#%E5%89%B2%E3%81%A8%E9%AB%98%E5%BA%A6%E3%81%AA%E5%86%85%E5%AE%B9\n",
        "]\n",
        "\n",
        "## 接頭辞\n",
        "prefix_word = r'^[\\*:#;]+\\s*'\n",
        "\n",
        "## 複数行にわたって削除する\n",
        "delete_objects =[\n",
        "  r'\\{\\|.*?\\|\\}', # wikitable などを削除する {| 任意の複数行のテキスト |}\n",
        "  r'\\{\\{cite book.*?\\}\\}', # cite book などを削除する {{cite book }}\n",
        "  r'<gallery>.*?</gallery>', # <gallery> タグを削除する\n",
        "  r'<ref>.*?</ref>', # <ref> タグを削除する\n",
        "]\n",
        "\n",
        "## 行全体を削除する\n",
        "delete_lines = [\n",
        "  r'^\\d{4}年\\d{1,2}月\\d{1,2}日 \\(.\\) \\d{2}:\\d{2}.*\\n?', # 正規表現で日付、日時で始まる行を探して削除\n",
        "  r'^<.*？>$', # html タグの行を削除する\n",
        "  r'^File:.*$', # 例: File:四角形.png|thumb|1300px|* これも、しかくけい　です。\n",
        "  r'^\\[\\[Image:.*?\\]\\]$', # 例: [[Image:Square (polygon).png|200px|]]\n",
        "  r'^\\[\\[画像:.*?\\]\\]$', # 例: [[画像:Circle - black simple.svg|thumb|150px|left|円（えん） ]]\n",
        "]\n",
        "\n",
        "## 削除する単語（前処理）\n",
        "pre_delete_words = [\n",
        "  r'\\{\\{進捗.*?\\}\\}',       #{{進捗 任意のテキスト}}\n",
        "  r'Wikipedia:',\n",
        "  r'\\{\\{NDC|.*?\\}\\}',      # 例 {{NDC|007.64}}\n",
        "  r'\\[\\[カテゴリ:.*?\\]\\]',    # 例 [[カテゴリ:アジアの言語]]\n",
        "  r'\\[\\[Category:.*?\\]\\]',  # 例 [[Category:日本語|*]]\n",
        "  r'\\u3000',              # 全角スペース削除\n",
        "  ]\n",
        "\n",
        "## 任意のテキストを取り出す\n",
        "pickup_words = [\n",
        "  r'\\[\\[w:.*?\\|(.*?)\\]\\]',    # [[w:不要な任意のテキスト|任意のテキスト]]\n",
        "  r'\\[\\[.*?\\|(.*?)\\]\\]',      # [[不要な任意のテキスト|任意のテキスト]]\n",
        "  r'\\[\\[:.*?:.*?\\:(.*?)\\]\\]', # [[:不要な任意のテキスト:不要な任意のテキスト:任意のテキスト]]\n",
        "  r'\\[\\[.*?:(.*?)\\]\\]',      # [[不要な任意のテキスト:任意のテキスト]]\n",
        "  r'\\{\\{[^|]*\\|(.*?)\\}\\}',    # {{不要な任意のテキスト|任意のテキスト}}\n",
        "  r\"'''(.*?)'''\",              # '''任意のテキスト'''\n",
        "  r'\\[\\[(.*?)\\]\\]',           # [[任意のテキスト]]\n",
        "  ]\n",
        "\n",
        "## 削除する単語\n",
        "delete_words = [\n",
        "  r'\\{\\{.*?\\}\\}',             #{{任意のテキスト}}\n",
        "  ]\n",
        "\n",
        "# 処理されたテキストを格納するための空リスト\n",
        "processed_lines = []\n",
        "\n",
        "for elem in elems:\n",
        "  cnt+=1\n",
        "  if cnt<start_id:\n",
        "    continue\n",
        "  if cnt>n_data+start_id:\n",
        "    break\n",
        "\n",
        "  for elem2 in elem:\n",
        "    for elem3 in elem2:\n",
        "      if elem3 is not None and elem3.text is not None:\n",
        "        xml_text = elem3.text\n",
        "        soup = BeautifulSoup(xml_text, 'html.parser')\n",
        "        text = soup.get_text()\n",
        "        # print('-----------')\n",
        "        # print(text)\n",
        "        # print('-----------')\n",
        "\n",
        "        # ページタイトルを取得したいがうまくいかない。\n",
        "        # match = re.search(r'<title>(.*?)</title>', xml_text)\n",
        "        # if match:\n",
        "        #     # グループ1に対応するテキスト（タグ内の内容）を出力\n",
        "        #     print(match.group(1))\n",
        "        # else:\n",
        "        #     print(\"タイトルタグが見つかりません。\")\n",
        "\n",
        "        ##### ページ全体に関わる処理はここで実施する\n",
        "        for delete_object in delete_objects:\n",
        "          text = re.sub(delete_object, '', text, flags=re.DOTALL)\n",
        "\n",
        "        for delete_line in delete_lines:\n",
        "          text= re.sub(delete_line, '', text, flags=re.MULTILINE)\n",
        "\n",
        "        for pre_delete_word in pre_delete_words:\n",
        "          text = re.sub(pre_delete_word, '', text)\n",
        "\n",
        "        for pickup_word in pickup_words:\n",
        "          text = re.sub(pickup_word, r'\\1', text)\n",
        "\n",
        "        for delete_word in delete_words:\n",
        "          text = re.sub(delete_word, '', text)\n",
        "\n",
        "        if len(text)<100:\n",
        "          continue\n",
        "\n",
        "        lines = text.split('\\n')\n",
        "\n",
        "        ##### 一行ずつ判定する処理はここで実施する\n",
        "        for line in lines:\n",
        "          cleaned_line = line.strip()  # 先頭と末尾の空白を削除\n",
        "          # 任意のセクションヘッダーにマッチするかチェック\n",
        "          is_section_header = any(cleaned_line == header for header in skip_section_headers)\n",
        "\n",
        "          if is_section_header:\n",
        "            skip_section = True  # スキップ開始\n",
        "            continue\n",
        "\n",
        "          if skip_section and cleaned_line.startswith(\"==\") and cleaned_line.endswith(\"==\"):\n",
        "            skip_section = False  # スキップ終了\n",
        "            continue\n",
        "\n",
        "          if not skip_section:\n",
        "\n",
        "            # セクションをスキップする\n",
        "            if cleaned_line.startswith(\"=\") and cleaned_line.endswith(\"=\"):\n",
        "              continue\n",
        "\n",
        "            # 箇条書きのリストをスキップする。「。」で終わっている場合は、文章とみなす。\n",
        "            if re.match(r'^[\\*:#]+\\s*', line) and not line.endswith('。'):\n",
        "              continue\n",
        "\n",
        "            line = re.sub(prefix_word, '', line)\n",
        "            # print(line)  # スキップフラグが立っていない行を出力\n",
        "            processed_lines.append(line)\n",
        "\n",
        "final_text = '\\n'.join(processed_lines)\n",
        "\n",
        "output_file_path = 'cleaned_text.txt'\n",
        "with open(output_file_path, 'w', encoding='utf-8') as file:\n",
        "    file.write(final_text)"
      ],
      "metadata": {
        "colab": {
          "base_uri": "https://localhost:8080/"
        },
        "id": "Mb0_Lzdaj88P",
        "outputId": "746bcc0c-b8ea-4d1d-eaa1-37cb4534e451"
      },
      "execution_count": 46,
      "outputs": [
        {
          "output_type": "stream",
          "name": "stderr",
          "text": [
            "<ipython-input-46-ebc4a6c6da92>:86: MarkupResemblesLocatorWarning: The input looks more like a filename than markup. You may want to open this file and pass the filehandle into Beautiful Soup.\n",
            "  soup = BeautifulSoup(xml_text, 'html.parser')\n"
          ]
        }
      ]
    },
    {
      "cell_type": "code",
      "execution_count": null,
      "metadata": {
        "id": "L1trNV2lXp2F"
      },
      "outputs": [],
      "source": []
    }
  ],
  "metadata": {
    "kernelspec": {
      "display_name": "ft",
      "language": "python",
      "name": "python3"
    },
    "language_info": {
      "codemirror_mode": {
        "name": "ipython",
        "version": 3
      },
      "file_extension": ".py",
      "mimetype": "text/x-python",
      "name": "python",
      "nbconvert_exporter": "python",
      "pygments_lexer": "ipython3",
      "version": "3.12.2"
    },
    "colab": {
      "provenance": []
    }
  },
  "nbformat": 4,
  "nbformat_minor": 0
}