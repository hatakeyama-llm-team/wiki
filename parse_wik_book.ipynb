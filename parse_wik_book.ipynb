{
  "cells": [
    {
      "cell_type": "code",
      "execution_count": 1,
      "metadata": {
        "id": "K6uZE7bUXp2E"
      },
      "outputs": [],
      "source": [
        "path=\"dump/jawikibooks-20240320-pages-articles-multistream.xml\""
      ]
    },
    {
      "cell_type": "code",
      "execution_count": 2,
      "metadata": {
        "id": "ZdGKT8ZeXp2E"
      },
      "outputs": [],
      "source": [
        "import xml.etree.ElementTree as ET\n",
        "\n",
        "# XMLファイルを読み込む\n",
        "tree = ET.parse(path)\n",
        "root = tree.getroot()"
      ]
    },
    {
      "cell_type": "code",
      "execution_count": 5,
      "metadata": {
        "colab": {
          "base_uri": "https://localhost:8080/"
        },
        "id": "Mb0_Lzdaj88P",
        "outputId": "746bcc0c-b8ea-4d1d-eaa1-37cb4534e451"
      },
      "outputs": [],
      "source": [
        "import glob\n",
        "import unicodedata\n",
        "import re\n",
        "from bs4 import BeautifulSoup\n",
        "\n",
        "tag=\"{http://www.mediawiki.org/xml/export-0.10/}page\"\n",
        "elems=root.findall(tag)\n",
        "## スキップするセクションを設定する\n",
        "skip_section = False  # スキップするセクションのトラッキングに使用\n",
        "skip_section_headers = [\n",
        "    '== 目次 ==',\n",
        "    '==目次==',\n",
        "    '== 外部リンク ==',\n",
        "    '==外部リンク==',\n",
        "    '== 参考文献 ==',\n",
        "    '== 関連項目 ==',\n",
        "    '===関連項目===',\n",
        "    '=== 連絡先 ===',\n",
        "    '=== 割と高度な内容 ===', #https://ja.wikibooks.org/wiki/C%E8%A8%80%E8%AA%9E#%E5%89%B2%E3%81%A8%E9%AB%98%E5%BA%A6%E3%81%AA%E5%86%85%E5%AE%B9\n",
        "]\n",
        "\n",
        "## 接頭辞\n",
        "prefix_word = r'^[\\*:#;]+\\s*'\n",
        "\n",
        "## 複数行にわたって削除する\n",
        "delete_objects =[\n",
        "  r'\\{\\|.*?\\|\\}', # wikitable などを削除する {| 任意の複数行のテキスト |}\n",
        "  r'\\{\\{cite book.*?\\}\\}', # cite book などを削除する {{cite book }}\n",
        "  r'<gallery>.*?</gallery>', # <gallery> タグを削除する\n",
        "  r'<ref>.*?</ref>', # <ref> タグを削除する\n",
        "]\n",
        "\n",
        "## 行全体を削除する\n",
        "delete_lines = [\n",
        "  r'^\\d{4}年\\d{1,2}月\\d{1,2}日 \\(.\\) \\d{2}:\\d{2}.*\\n?', # 正規表現で日付、日時で始まる行を探して削除\n",
        "  r'^<.*？>$', # html タグの行を削除する\n",
        "  r'^File:.*$', # 例: File:四角形.png|thumb|1300px|* これも、しかくけい　です。\n",
        "  r'^\\[\\[Image:.*?\\]\\]$', # 例: [[Image:Square (polygon).png|200px|]]\n",
        "  r'^\\[\\[画像:.*?\\]\\]$', # 例: [[画像:Circle - black simple.svg|thumb|150px|left|円（えん） ]]\n",
        "]\n",
        "\n",
        "## 削除する単語（前処理）\n",
        "pre_delete_words = [\n",
        "  r'\\{\\{進捗.*?\\}\\}',       #{{進捗 任意のテキスト}}\n",
        "  r'Wikipedia:',\n",
        "  r'\\{\\{NDC|.*?\\}\\}',      # 例 {{NDC|007.64}}\n",
        "  r'\\[\\[カテゴリ:.*?\\]\\]',    # 例 [[カテゴリ:アジアの言語]]\n",
        "  r'\\[\\[Category:.*?\\]\\]',  # 例 [[Category:日本語|*]]\n",
        "  r'\\u3000',              # 全角スペース削除\n",
        "  ]\n",
        "\n",
        "## 任意のテキストを取り出す\n",
        "pickup_words = [\n",
        "  r'\\[\\[w:.*?\\|(.*?)\\]\\]',    # [[w:不要な任意のテキスト|任意のテキスト]]\n",
        "  r'\\[\\[.*?\\|(.*?)\\]\\]',      # [[不要な任意のテキスト|任意のテキスト]]\n",
        "  r'\\[\\[:.*?:.*?\\:(.*?)\\]\\]', # [[:不要な任意のテキスト:不要な任意のテキスト:任意のテキスト]]\n",
        "  r'\\[\\[.*?:(.*?)\\]\\]',      # [[不要な任意のテキスト:任意のテキスト]]\n",
        "  r'\\{\\{[^|]*\\|(.*?)\\}\\}',    # {{不要な任意のテキスト|任意のテキスト}}\n",
        "  r\"'''(.*?)'''\",              # '''任意のテキスト'''\n",
        "  r'\\[\\[(.*?)\\]\\]',           # [[任意のテキスト]]\n",
        "  ]\n",
        "\n",
        "## 削除する単語\n",
        "delete_words = [\n",
        "  r'\\{\\{.*?\\}\\}',             #{{任意のテキスト}}\n",
        "  ]"
      ]
    },
    {
      "cell_type": "code",
      "execution_count": 51,
      "metadata": {},
      "outputs": [
        {
          "name": "stderr",
          "output_type": "stream",
          "text": [
            "  0%|          | 0/22816 [00:00<?, ?it/s]/tmp/ipykernel_3099213/2528050969.py:23: MarkupResemblesLocatorWarning: The input looks more like a filename than markup. You may want to open this file and pass the filehandle into Beautiful Soup.\n",
            "  soup = BeautifulSoup(xml_text, 'html.parser')\n",
            " 51%|█████     | 11667/22816 [00:21<00:16, 674.61it/s]/tmp/ipykernel_3099213/2528050969.py:23: MarkupResemblesLocatorWarning: The input looks more like a URL than markup. You may want to use an HTTP client like requests to get the document behind the URL, and feed that document to Beautiful Soup.\n",
            "  soup = BeautifulSoup(xml_text, 'html.parser')\n",
            "100%|██████████| 22816/22816 [00:52<00:00, 430.79it/s]\n"
          ]
        }
      ],
      "source": [
        "from tqdm import tqdm\n",
        "\n",
        "# 処理されたテキストを格納するための空リスト\n",
        "docs=[]\n",
        "n_data=10**6\n",
        "start_id=0\n",
        "cnt=0\n",
        "\n",
        "\n",
        "for elem in tqdm(elems):\n",
        "  cnt+=1\n",
        "  #はじめの方は､議論など､本文ではないものが多いので､スキップする\n",
        "  if cnt<start_id:\n",
        "    continue\n",
        "  if cnt>n_data+start_id:\n",
        "    break\n",
        "\n",
        "  for elem2 in elem:\n",
        "    for elem3 in elem2:\n",
        "      if elem3 is not None and elem3.text is not None:\n",
        "        processed_lines = []\n",
        "        xml_text = elem3.text\n",
        "        soup = BeautifulSoup(xml_text, 'html.parser')\n",
        "        text = soup.get_text()\n",
        "        # print('-----------')\n",
        "        # print(text)\n",
        "        # print('-----------')\n",
        "\n",
        "        # ページタイトルを取得したいがうまくいかない。\n",
        "        # match = re.search(r'<title>(.*?)</title>', xml_text)\n",
        "        # if match:\n",
        "        #     # グループ1に対応するテキスト（タグ内の内容）を出力\n",
        "        #     print(match.group(1))\n",
        "        # else:\n",
        "        #     print(\"タイトルタグが見つかりません。\")\n",
        "\n",
        "        ##### ページ全体に関わる処理はここで実施する\n",
        "        for delete_object in delete_objects:\n",
        "          text = re.sub(delete_object, '', text, flags=re.DOTALL)\n",
        "\n",
        "        for delete_line in delete_lines:\n",
        "          text= re.sub(delete_line, '', text, flags=re.MULTILINE)\n",
        "\n",
        "        for pre_delete_word in pre_delete_words:\n",
        "          text = re.sub(pre_delete_word, '', text)\n",
        "\n",
        "        for pickup_word in pickup_words:\n",
        "          text = re.sub(pickup_word, r'\\1', text)\n",
        "\n",
        "        for delete_word in delete_words:\n",
        "          text = re.sub(delete_word, '', text)\n",
        "\n",
        "        if len(text)<100:\n",
        "          continue\n",
        "\n",
        "        lines = text.split('\\n')\n",
        "\n",
        "        ##### 一行ずつ判定する処理はここで実施する\n",
        "        for line in lines:\n",
        "          cleaned_line = line.strip()  # 先頭と末尾の空白を削除\n",
        "          # 任意のセクションヘッダーにマッチするかチェック\n",
        "          is_section_header = any(cleaned_line == header for header in skip_section_headers)\n",
        "\n",
        "          if is_section_header:\n",
        "            skip_section = True  # スキップ開始\n",
        "            continue\n",
        "\n",
        "          if skip_section and cleaned_line.startswith(\"==\") and cleaned_line.endswith(\"==\"):\n",
        "            skip_section = False  # スキップ終了\n",
        "            continue\n",
        "\n",
        "          if not skip_section:\n",
        "\n",
        "            # セクションをスキップする\n",
        "            if cleaned_line.startswith(\"=\") and cleaned_line.endswith(\"=\"):\n",
        "              continue\n",
        "\n",
        "            # 箇条書きのリストをスキップする。「。」で終わっている場合は、文章とみなす。\n",
        "            if re.match(r'^[\\*:#]+\\s*', line) and not line.endswith('。'):\n",
        "              continue\n",
        "\n",
        "            line = re.sub(prefix_word, '', line)\n",
        "            # print(line)  # スキップフラグが立っていない行を出力\n",
        "            processed_lines.append(line)\n",
        "\n",
        "        final_text = '\\n'.join(processed_lines).strip()\n",
        "        #二回以上改行がある場合は、一回にする\n",
        "        final_text = re.sub(r'\\n{2,}', '\\n', final_text)\n",
        "        docs.append(final_text)"
      ]
    },
    {
      "cell_type": "code",
      "execution_count": 52,
      "metadata": {
        "id": "L1trNV2lXp2F"
      },
      "outputs": [
        {
          "name": "stdout",
          "output_type": "stream",
          "text": [
            "16988\n"
          ]
        },
        {
          "data": {
            "text/plain": [
              "16329"
            ]
          },
          "execution_count": 52,
          "metadata": {},
          "output_type": "execute_result"
        }
      ],
      "source": [
        "print(len(docs))\n",
        "docs=list(set(docs))\n",
        "len(docs)"
      ]
    },
    {
      "cell_type": "code",
      "execution_count": 56,
      "metadata": {},
      "outputs": [],
      "source": [
        "#さらに清掃\n",
        "cleaned_docs=[]\n",
        "for doc in docs:\n",
        "    if len(doc)<100:\n",
        "        continue\n",
        "    lines=[]\n",
        "    for i,line in enumerate(doc.split('\\n')):\n",
        "        line=line.strip()\n",
        "        #見出し\n",
        "        if i==0 and line.find(\"＞\"):\n",
        "            continue\n",
        "        lines.append(line)\n",
        "    \n",
        "    doc='\\n'.join(lines)\n",
        "    cleaned_docs.append(doc)"
      ]
    },
    {
      "cell_type": "code",
      "execution_count": 61,
      "metadata": {},
      "outputs": [
        {
          "data": {
            "text/plain": [
              "'（電子証明書に係る証明）\\n第33条の15\\n法第12条の2第8項の規定による証明の請求は、法務大臣の指定する方式に従い、電子証明書の番号その他の事項を送信する方法によらなければならない。\\n----\\n{{前後\\n|商業登記規則\\n|第1章 登記簿等\\n|商業登記規則第33条の14（識別符号の変更）\\n|商業登記規則第33条の16（証明が相当でない場合の措置）\\n033の15'"
            ]
          },
          "execution_count": 61,
          "metadata": {},
          "output_type": "execute_result"
        }
      ],
      "source": [
        "cleaned_docs[-101]"
      ]
    },
    {
      "cell_type": "code",
      "execution_count": 62,
      "metadata": {},
      "outputs": [],
      "source": [
        "import pandas as pd\n",
        "\n",
        "\n",
        "df = pd.DataFrame(docs, columns=[\"text\"]).reset_index()\n",
        "#df.to_parquet(\"parquet/jawikibooks.parquet\", index=False)\n",
        "chunk_size = 100000  # 分割するチャンクのサイズ\n",
        "num_chunks = len(df) // chunk_size + (1 if len(df) % chunk_size > 0 else 0)  # 必要なチャンクの数を計算\n",
        "\n",
        "for i in range(num_chunks):\n",
        "    chunk = df[i*chunk_size:(i+1)*chunk_size]\n",
        "    chunk.to_parquet(f\"parquet/jawikibooks_{i+1}.parquet\", index=False)"
      ]
    },
    {
      "cell_type": "code",
      "execution_count": null,
      "metadata": {},
      "outputs": [],
      "source": []
    }
  ],
  "metadata": {
    "colab": {
      "provenance": []
    },
    "kernelspec": {
      "display_name": "ft",
      "language": "python",
      "name": "python3"
    },
    "language_info": {
      "codemirror_mode": {
        "name": "ipython",
        "version": 3
      },
      "file_extension": ".py",
      "mimetype": "text/x-python",
      "name": "python",
      "nbconvert_exporter": "python",
      "pygments_lexer": "ipython3",
      "version": "3.12.2"
    }
  },
  "nbformat": 4,
  "nbformat_minor": 0
}
